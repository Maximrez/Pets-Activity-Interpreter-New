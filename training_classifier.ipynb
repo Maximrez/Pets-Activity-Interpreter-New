{
  "nbformat": 4,
  "nbformat_minor": 0,
  "metadata": {
    "colab": {
      "name": "training_classifier.ipynb",
      "provenance": [],
      "collapsed_sections": [
        "x4mgkPL-xpHO",
        "2929c_oGiMPe",
        "7xvhcZHcqVx_",
        "V4nEGcCMiTMU",
        "NvHIQP2djuMh",
        "SodqLenCm0Zu",
        "aLPHuX0M5nPP"
      ]
    },
    "kernelspec": {
      "display_name": "Python 3",
      "name": "python3"
    },
    "language_info": {
      "name": "python"
    }
  },
  "cells": [
    {
      "cell_type": "code",
      "metadata": {
        "id": "kzHDYc6wyXu_"
      },
      "source": [
        "!pip install catboost"
      ],
      "execution_count": null,
      "outputs": []
    },
    {
      "cell_type": "code",
      "metadata": {
        "id": "a5JCighXeWVp"
      },
      "source": [
        "import os\n",
        "import shutil\n",
        "import random\n",
        "import numpy as np \n",
        "import pandas as pd\n",
        "import matplotlib.pyplot as plt\n",
        "from PIL import Image\n",
        "import lightgbm as lgbm\n",
        "from google.colab import files\n",
        "from sklearn.model_selection import train_test_split\n",
        "from catboost import Pool, CatBoostClassifier\n",
        "from sklearn.metrics import precision_score\n",
        "import torch\n",
        "import tqdm\n",
        "import torch.nn as nn\n",
        "import torch.nn.functional as F\n",
        "import torch.optim as optim\n",
        "from torch.utils.data import DataLoader, Dataset\n",
        "from torchvision import datasets, transforms\n",
        "from torch.autograd import Variable\n",
        "from xgboost import XGBClassifier\n",
        "from sklearn.model_selection import GridSearchCV"
      ],
      "execution_count": 2,
      "outputs": []
    },
    {
      "cell_type": "code",
      "metadata": {
        "id": "OK4oj_7PCcpr"
      },
      "source": [
        "torch.manual_seed(22)\n",
        "random.seed(22)"
      ],
      "execution_count": 3,
      "outputs": []
    },
    {
      "cell_type": "code",
      "metadata": {
        "colab": {
          "resources": {
            "http://localhost:8080/nbextensions/google.colab/files.js": {
              "data": "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",
              "ok": true,
              "headers": [
                [
                  "content-type",
                  "application/javascript"
                ]
              ],
              "status": 200,
              "status_text": ""
            }
          },
          "base_uri": "https://localhost:8080/",
          "height": 72
        },
        "id": "iQXfKCbEgi6b",
        "outputId": "4ddfb73f-53c5-4beb-cd20-b8ed1e1907cf"
      },
      "source": [
        "files.upload(); #animals_data(_new).zip"
      ],
      "execution_count": 4,
      "outputs": [
        {
          "output_type": "display_data",
          "data": {
            "text/html": [
              "\n",
              "     <input type=\"file\" id=\"files-e7f819e8-922c-40e5-99c6-e56201ae4759\" name=\"files[]\" multiple disabled\n",
              "        style=\"border:none\" />\n",
              "     <output id=\"result-e7f819e8-922c-40e5-99c6-e56201ae4759\">\n",
              "      Upload widget is only available when the cell has been executed in the\n",
              "      current browser session. Please rerun this cell to enable.\n",
              "      </output>\n",
              "      <script src=\"/nbextensions/google.colab/files.js\"></script> "
            ],
            "text/plain": [
              "<IPython.core.display.HTML object>"
            ]
          },
          "metadata": {}
        },
        {
          "output_type": "stream",
          "name": "stdout",
          "text": [
            "Saving animals_data_new.zip to animals_data_new.zip\n"
          ]
        }
      ]
    },
    {
      "cell_type": "code",
      "metadata": {
        "id": "c9Gcvg8yhFFV"
      },
      "source": [
        "data_dir = '/content/data'"
      ],
      "execution_count": 5,
      "outputs": []
    },
    {
      "cell_type": "code",
      "metadata": {
        "id": "vkAWKmqxhGKU"
      },
      "source": [
        "shutil.unpack_archive('/content/animals_data_new.zip', data_dir)"
      ],
      "execution_count": 6,
      "outputs": []
    },
    {
      "cell_type": "code",
      "metadata": {
        "colab": {
          "base_uri": "https://localhost:8080/"
        },
        "id": "rHTkdg6vhaee",
        "outputId": "39e2422e-f2bc-4785-eec7-34a62b46ed02"
      },
      "source": [
        "df = pd.read_csv(os.path.join(data_dir, 'animals_data_new.csv'))\n",
        "print(\"Строк в датасете: {}\".format(len(df)))"
      ],
      "execution_count": 24,
      "outputs": [
        {
          "output_type": "stream",
          "name": "stdout",
          "text": [
            "Строк в датасете: 967\n"
          ]
        }
      ]
    },
    {
      "cell_type": "code",
      "metadata": {
        "id": "LpiSl9-dkQ1n"
      },
      "source": [
        "classes = ['nothing', 'stand', 'sit', 'lie', 'go', 'run']\n",
        "# classes = ['stand', 'sit', 'lie', 'go', 'run']\n",
        "X = df.drop(classes, axis=1)\n",
        "y = df[['id'] + classes]"
      ],
      "execution_count": 25,
      "outputs": []
    },
    {
      "cell_type": "code",
      "metadata": {
        "id": "DnaJgeWzhJk0"
      },
      "source": [
        "for column in X.columns:\n",
        "    if '_x' in column or '_width' in column or '_y' in column or '_height' in column:\n",
        "        X[column] = X[column].astype(float)\n",
        "\n",
        "df_dict = X.to_dict()\n",
        "\n",
        "for idx in df_dict['id'].values():\n",
        "    img_name = os.path.join(data_dir, 'animals', \"0\"*(3-len(str(idx))) + str(idx) + \".jpeg\")\n",
        "    image = Image.open(img_name)\n",
        "    x_size, y_size = image.size\n",
        "    for column in df_dict.keys():\n",
        "        if '_x' in column or '_width' in column:\n",
        "            df_dict[column][idx] /= x_size\n",
        "        elif '_y' in column or '_height' in column:\n",
        "            df_dict[column][idx] /= y_size\n",
        "\n",
        "X = pd.DataFrame.from_dict(df_dict)"
      ],
      "execution_count": 26,
      "outputs": []
    },
    {
      "cell_type": "code",
      "metadata": {
        "id": "EqRVRWPWbXLZ"
      },
      "source": [
        "y['label'] = 0\n",
        "\n",
        "#по всем классам\n",
        "for idx in range(1, len(y.columns)-1):\n",
        "    y['label'] += y[y.columns[idx]] * (idx - 1)\n",
        "\n",
        "#2 класса\n",
        "# y['label'] = 0\n",
        "# for idx in range(1, len(y.columns)-1):\n",
        "#     y['label'] += y[y.columns[idx]] * int(idx > 1)\n",
        "\n",
        "#3 класса\n",
        "# y['label'] = 0\n",
        "# for idx in range(1, len(y.columns)-1):\n",
        "#     y['label'] += (y[y.columns[idx]] * int(idx == 2) + 2 * y[y.columns[idx]] * int(idx > 2))"
      ],
      "execution_count": null,
      "outputs": []
    },
    {
      "cell_type": "code",
      "metadata": {
        "id": "SortDs4emlbk"
      },
      "source": [
        "X.set_index('id', inplace=True)\n",
        "y.set_index('id', inplace=True)"
      ],
      "execution_count": 28,
      "outputs": []
    },
    {
      "cell_type": "code",
      "metadata": {
        "id": "qMnSkmGKwqgV"
      },
      "source": [
        "X['animal'] = 0\n",
        "for idx in range(5):\n",
        "    X['animal'] += X[X.columns[idx]] * idx\n",
        "\n",
        "X = X.drop(['cat', 'cow', 'dog', 'horse', 'sheep'], axis=1)\n",
        "\n",
        "X['bounds_width'] += X['bounds_x']\n",
        "X['bounds_height'] += X['bounds_y']"
      ],
      "execution_count": 29,
      "outputs": []
    },
    {
      "cell_type": "code",
      "metadata": {
        "colab": {
          "base_uri": "https://localhost:8080/",
          "height": 530
        },
        "id": "T7mbiqXq3X0F",
        "outputId": "33d11ec4-2b45-40e0-82fe-029069835508"
      },
      "source": [
        "def distrib_hist(y):\n",
        "    plt.rcParams['figure.figsize'] = (14, 8)\n",
        "    levels = list(sum(list(y[col])) for col in y.columns[:-1])\n",
        "    names = list(y.columns[:-1])\n",
        "\n",
        "    plt.bar(range(len(levels)), levels);\n",
        "    plt.xticks(range(len(levels)), names);\n",
        "    plt.ylabel('Number of class elements')\n",
        "    plt.xlabel('Classes')\n",
        "    plt.title(\"Distribution histogram\");\n",
        "\n",
        "    print(*levels)\n",
        "\n",
        "distrib_hist(y)"
      ],
      "execution_count": 30,
      "outputs": [
        {
          "output_type": "stream",
          "name": "stdout",
          "text": [
            "74 543 79 105 90 76\n"
          ]
        },
        {
          "output_type": "display_data",
          "data": {
            "image/png": "[encoded data removed]",
            "text/plain": [
              "<Figure size 1008x576 with 1 Axes>"
            ]
          },
          "metadata": {
            "needs_background": "light"
          }
        }
      ]
    },
    {
      "cell_type": "code",
      "metadata": {
        "colab": {
          "base_uri": "https://localhost:8080/"
        },
        "id": "gdfdhcI5nQgS",
        "outputId": "696aee91-4696-48af-d757-0e3f520f3ffb"
      },
      "source": [
        "X_train, X_test, y_train, y_test = train_test_split(X, y, test_size=0.4, random_state=22)\n",
        "X_val, X_test, y_val, y_test = train_test_split(X_test, y_test, test_size=0.4, random_state=22)\n",
        "\n",
        "print(f\"SPLIT\\nTrain:\\t{len(X_train)}\\nVal:\\t{len(X_val)}\\nTest:\\t{len(X_test)}\")"
      ],
      "execution_count": 31,
      "outputs": [
        {
          "output_type": "stream",
          "name": "stdout",
          "text": [
            "SPLIT\n",
            "Train:\t580\n",
            "Val:\t232\n",
            "Test:\t155\n"
          ]
        }
      ]
    },
    {
      "cell_type": "code",
      "metadata": {
        "id": "LyoLBwfpHSRs"
      },
      "source": [
        "# Аугментация\n",
        "coord_columns = []\n",
        "for c in range(len(X_train.columns)):\n",
        "    column = X_train.columns[c]\n",
        "    if '_x' in column or '_width' in column or '_y' in column or '_height' in column:\n",
        "        coord_columns.append(c)\n",
        "\n",
        "delta = 0.001\n",
        "\n",
        "next_idx = float(max(list(map(int, X_train.index))) + 1)\n",
        "\n",
        "roof = max(list(sum(list(y_train[col])) for col in y_train.columns[:-1]))\n",
        "\n",
        "for idx in range(len(y_train.columns)-1):\n",
        "    list_index = 0\n",
        "    while sum(list(y_train[y_train.columns[idx]])) < roof:\n",
        "        indexes = list(map(int, X_train.index))\n",
        "        features = list(X_train.loc[indexes[list_index]])\n",
        "        answers = list(y_train.loc[indexes[list_index]])\n",
        "\n",
        "        if answers[-1] == idx:\n",
        "            for cc in coord_columns:\n",
        "                if features[cc] != 0:\n",
        "                    features[cc] += random.uniform(-delta, delta)\n",
        "            X_train = X_train.append(pd.Series(features, index=X_train.columns, name=next_idx))\n",
        "            y_train = y_train.append(pd.Series(answers, index=y_train.columns, name=next_idx))\n",
        "            next_idx += 1\n",
        "        list_index = (list_index + 1) % len(X_train)"
      ],
      "execution_count": 16,
      "outputs": []
    },
    {
      "cell_type": "code",
      "metadata": {
        "colab": {
          "base_uri": "https://localhost:8080/",
          "height": 530
        },
        "id": "XtbTiK5lJxjS",
        "outputId": "069cf094-31ea-45e5-ca02-fe65da35fbd9"
      },
      "source": [
        "distrib_hist(y_train)"
      ],
      "execution_count": 32,
      "outputs": [
        {
          "output_type": "stream",
          "name": "stdout",
          "text": [
            "42 335 42 64 47 50\n"
          ]
        },
        {
          "output_type": "display_data",
          "data": {
            "image/png": "[encoded data removed]",
            "text/plain": [
              "<Figure size 1008x576 with 1 Axes>"
            ]
          },
          "metadata": {
            "needs_background": "light"
          }
        }
      ]
    },
    {
      "cell_type": "code",
      "metadata": {
        "colab": {
          "base_uri": "https://localhost:8080/",
          "height": 530
        },
        "id": "EQJnjuVmifGF",
        "outputId": "f482c992-c0fe-4581-cf56-70234e34d060"
      },
      "source": [
        "distrib_hist(y_test)"
      ],
      "execution_count": 33,
      "outputs": [
        {
          "output_type": "stream",
          "name": "stdout",
          "text": [
            "14 85 14 12 23 7\n"
          ]
        },
        {
          "output_type": "display_data",
          "data": {
            "image/png": "[encoded data removed]",
            "text/plain": [
              "<Figure size 1008x576 with 1 Axes>"
            ]
          },
          "metadata": {
            "needs_background": "light"
          }
        }
      ]
    },
    {
      "cell_type": "markdown",
      "metadata": {
        "id": "x4mgkPL-xpHO"
      },
      "source": [
        "# LightGBM Classifier\n",
        "0.4261"
      ]
    },
    {
      "cell_type": "code",
      "metadata": {
        "id": "JZzpqqi_n-Tz"
      },
      "source": [
        "params = {'task': 'train',\n",
        "        'boosting_type': 'gbdt',\n",
        "        'objective': 'multiclass',\n",
        "        'num_class': 10,\n",
        "        'metric': 'multi_logloss',\n",
        "        'learning_rate': 0.003,\n",
        "        'max_depth': 10,\n",
        "        'num_leaves': 20}\n",
        "\n",
        "d_train = lgbm.Dataset(X_train, label=y_train['label'])\n",
        "\n",
        "num_epochs = 1000"
      ],
      "execution_count": null,
      "outputs": []
    },
    {
      "cell_type": "code",
      "metadata": {
        "id": "KcA9RsfZpNLg"
      },
      "source": [
        "lgbm_classifier = lgbm.train(params, d_train, num_epochs)"
      ],
      "execution_count": null,
      "outputs": []
    },
    {
      "cell_type": "code",
      "metadata": {
        "id": "eD93jB8DqBmf"
      },
      "source": [
        "y_pred = lgbm_classifier.predict(X_test)"
      ],
      "execution_count": null,
      "outputs": []
    },
    {
      "cell_type": "code",
      "metadata": {
        "id": "bFUOOoj6uNIJ"
      },
      "source": [
        "y_pred = [np.argmax(line) for line in y_pred]"
      ],
      "execution_count": null,
      "outputs": []
    },
    {
      "cell_type": "code",
      "metadata": {
        "colab": {
          "base_uri": "https://localhost:8080/"
        },
        "id": "l4ikDttSudRy",
        "outputId": "db1980bb-6e6b-477d-ecb4-93385c9b6abd"
      },
      "source": [
        "precision_score(y_pred, y_test['label'], average=None).mean()"
      ],
      "execution_count": null,
      "outputs": [
        {
          "output_type": "execute_result",
          "data": {
            "text/plain": [
              "0.5244585871742661"
            ]
          },
          "metadata": {},
          "execution_count": 143
        }
      ]
    },
    {
      "cell_type": "markdown",
      "metadata": {
        "id": "h2huov0dyFcu"
      },
      "source": [
        "# Catboost Classifier\n",
        "pure 0.6551 eval 0.9002 multiclass 69.7% test\n",
        "\n",
        "augm 0.6724 eval 0.8873 multiclass 69.7% test\n",
        "\n",
        "stand/not_stand 0.75 eval 0.5330 logloss 75.5% test\n",
        "\n",
        "sit/lie/go/run 0.67 eval 0.8882 multiclass 68.7% test"
      ]
    },
    {
      "cell_type": "markdown",
      "metadata": {
        "id": "mB0tbYEzqeL2"
      },
      "source": [
        "##### Классификация по всем классам"
      ]
    },
    {
      "cell_type": "code",
      "metadata": {
        "id": "yrXx77fdq7db"
      },
      "source": [
        "col = ['bounds_x', 'bounds_y', 'bounds_width', 'bounds_height', 'L_eye_v',\n",
        "       'L_eye_x', 'L_eye_y', 'R_eye_v', 'R_eye_x', 'R_eye_y', 'L_ear_v',\n",
        "       'L_ear_x', 'L_ear_y', 'R_ear_v', 'R_ear_x', 'R_ear_y', 'Nose_v',\n",
        "       'Nose_x', 'Nose_y', 'Throat_v', 'Throat_x', 'Throat_y', 'Tail_v',\n",
        "       'Tail_x', 'Tail_y', 'withers_v', 'withers_x', 'withers_y',\n",
        "       'L_F_elbow_v', 'L_F_elbow_x', 'L_F_elbow_y', 'R_F_elbow_v',\n",
        "       'R_F_elbow_x', 'R_F_elbow_y', 'L_B_elbow_v', 'L_B_elbow_x',\n",
        "       'L_B_elbow_y', 'R_B_elbow_v', 'R_B_elbow_x', 'R_B_elbow_y',\n",
        "       'L_F_knee_v', 'L_F_knee_x', 'L_F_knee_y', 'R_F_knee_v', 'R_F_knee_x',\n",
        "       'R_F_knee_y', 'L_B_knee_v', 'L_B_knee_x', 'L_B_knee_y', 'R_B_knee_v',\n",
        "       'R_B_knee_x', 'R_B_knee_y', 'L_F_paw_v', 'L_F_paw_x', 'L_F_paw_y',\n",
        "       'R_F_paw_v', 'R_F_paw_x', 'R_F_paw_y', 'L_B_paw_v', 'L_B_paw_x',\n",
        "       'L_B_paw_y', 'R_B_paw_v', 'R_B_paw_x', 'R_B_paw_y']\n",
        "\n",
        "X_train = X_train[col]\n",
        "X_test = X_test[col]\n",
        "X_val = X_val[col]"
      ],
      "execution_count": null,
      "outputs": []
    },
    {
      "cell_type": "code",
      "metadata": {
        "id": "qW5kZtmaqm4N"
      },
      "source": [
        "train_pool = Pool(data=X_train, label=y_train['label'])\n",
        "eval_pool = Pool(data=X_val, label=y_val['label'])"
      ],
      "execution_count": 34,
      "outputs": []
    },
    {
      "cell_type": "code",
      "metadata": {
        "id": "4PAh_T4Bskl3"
      },
      "source": [
        "cat_classifier = CatBoostClassifier(\n",
        "    loss_function='MultiClass',\n",
        "    eval_metric='Accuracy',\n",
        "    random_state = 22\n",
        ")"
      ],
      "execution_count": 35,
      "outputs": []
    },
    {
      "cell_type": "code",
      "metadata": {
        "colab": {
          "background_save": true
        },
        "id": "JRQdPcJ3p93u"
      },
      "source": [
        "grid = {'learning_rate': [0.03, 0.1],\n",
        "        'depth': [4, 6, 10],\n",
        "        'l2_leaf_reg': [1, 3, 5, 7, 9]}\n",
        "\n",
        "grid_search_result = cat_classifier.grid_search(grid, \n",
        "                                       X=X_train, \n",
        "                                       y=y_train['label'], \n",
        "                                       plot=True,\n",
        "                                       verbose=False)"
      ],
      "execution_count": null,
      "outputs": []
    },
    {
      "cell_type": "code",
      "metadata": {
        "colab": {
          "base_uri": "https://localhost:8080/"
        },
        "id": "gOUvtdK3yZYM",
        "outputId": "f6d79af8-24b8-4aea-cf8e-080930596334"
      },
      "source": [
        "cat_classifier.fit(train_pool, eval_set=eval_pool, verbose=False, plot=False)"
      ],
      "execution_count": 36,
      "outputs": [
        {
          "output_type": "execute_result",
          "data": {
            "text/plain": [
              "<catboost.core.CatBoostClassifier at 0x7fb4ae668b90>"
            ]
          },
          "metadata": {},
          "execution_count": 36
        }
      ]
    },
    {
      "cell_type": "code",
      "metadata": {
        "colab": {
          "base_uri": "https://localhost:8080/"
        },
        "id": "BSEH4xTEykAu",
        "outputId": "af8c6db5-c1f5-4207-a3ec-079983f4c9f0"
      },
      "source": [
        "cat_classifier.get_best_score()"
      ],
      "execution_count": 37,
      "outputs": [
        {
          "output_type": "execute_result",
          "data": {
            "text/plain": [
              "{'learn': {'Accuracy': 1.0, 'MultiClass': 0.02782326661545557},\n",
              " 'validation': {'Accuracy': 0.646551724137931,\n",
              "  'MultiClass': 0.9450905816185009}}"
            ]
          },
          "metadata": {},
          "execution_count": 37
        }
      ]
    },
    {
      "cell_type": "code",
      "metadata": {
        "id": "RZm7baq0_a0l",
        "colab": {
          "base_uri": "https://localhost:8080/",
          "height": 611
        },
        "outputId": "aab31c6c-c518-42b8-bd22-b9da3da22b22"
      },
      "source": [
        "preds = cat_classifier.predict(X_test)\n",
        "targets = list(y_test[\"label\"])\n",
        "\n",
        "names = list(y_train.columns)[:-1]\n",
        "\n",
        "preds = cat_classifier.predict(X_test)\n",
        "targets = list(y_test[\"label\"])\n",
        "\n",
        "n = len(names)\n",
        "\n",
        "classes_count = [0] * n\n",
        "classes_correct = [0] * n\n",
        "\n",
        "for idx in range(len(targets)):\n",
        "    classes_count[targets[idx]] += 1\n",
        "    if targets[idx] == preds[idx]:\n",
        "        classes_correct[targets[idx]] += 1\n",
        "\n",
        "plt.rcParams['figure.figsize'] = (12, 7)\n",
        "plt.bar(range(n), classes_count, color=\"red\");\n",
        "plt.bar(range(n), classes_correct, color=\"green\");\n",
        "plt.xticks(range(n), names);\n",
        "plt.ylabel('Correct/Total number of class elements')\n",
        "plt.xlabel('Classes')\n",
        "plt.title(\"Prediction histogram\")\n",
        "plt.show()\n",
        "\n",
        "print()\n",
        "for idx in range(n):\n",
        "    print(\"{}:   {}/{}   {:.1f}%\".format(names[idx].title(), classes_correct[idx], classes_count[idx], 100*classes_correct[idx]/classes_count[idx]))\n",
        "\n",
        "print(\"\\ntotal:   {}/{}   {:.1f}%\".format(sum(classes_correct), sum(classes_count), 100*sum(classes_correct)/sum(classes_count)))"
      ],
      "execution_count": 38,
      "outputs": [
        {
          "output_type": "display_data",
          "data": {
            "image/png": "[encoded data removed]",
            "text/plain": [
              "<Figure size 864x504 with 1 Axes>"
            ]
          },
          "metadata": {
            "needs_background": "light"
          }
        },
        {
          "output_type": "stream",
          "name": "stdout",
          "text": [
            "\n",
            "Nothing:   11/14   78.6%\n",
            "Stand:   78/85   91.8%\n",
            "Sit:   4/14   28.6%\n",
            "Lie:   8/12   66.7%\n",
            "Go:   0/23   0.0%\n",
            "Run:   2/7   28.6%\n",
            "\n",
            "total:   103/155   66.5%\n"
          ]
        }
      ]
    },
    {
      "cell_type": "code",
      "metadata": {
        "id": "fUZw68CE_hsU"
      },
      "source": [
        "cat_classifier.save_model('cat_classifier_pure5')"
      ],
      "execution_count": null,
      "outputs": []
    },
    {
      "cell_type": "code",
      "metadata": {
        "id": "XrqOY02EA2Qa"
      },
      "source": [
        "cat_classifier.save_model('cat_classifier_augm5')"
      ],
      "execution_count": null,
      "outputs": []
    },
    {
      "cell_type": "markdown",
      "metadata": {
        "id": "2929c_oGiMPe"
      },
      "source": [
        "##### Разбиение на 2 класса"
      ]
    },
    {
      "cell_type": "code",
      "metadata": {
        "id": "NgfFydp1u5O2"
      },
      "source": [
        "train_pool = Pool(data=X_train, label=y_train['label'])\n",
        "eval_pool = Pool(data=X_val, label=y_val['label']) "
      ],
      "execution_count": null,
      "outputs": []
    },
    {
      "cell_type": "code",
      "metadata": {
        "id": "ekkTMfgwhjWa"
      },
      "source": [
        "cat_classifier1 = CatBoostClassifier(\n",
        "    loss_function='Logloss',\n",
        "    eval_metric='Accuracy',\n",
        "    use_best_model=True,\n",
        "    random_state = 22\n",
        ")"
      ],
      "execution_count": null,
      "outputs": []
    },
    {
      "cell_type": "code",
      "metadata": {
        "colab": {
          "base_uri": "https://localhost:8080/"
        },
        "id": "PetgUkTZhnao",
        "outputId": "bd3feffb-3904-416b-97b6-043d7e5c466b"
      },
      "source": [
        "cat_classifier1.fit(train_pool, eval_set=eval_pool, verbose=False, plot=False)"
      ],
      "execution_count": null,
      "outputs": [
        {
          "output_type": "execute_result",
          "data": {
            "text/plain": [
              "<catboost.core.CatBoostClassifier at 0x7f6e2bbacf90>"
            ]
          },
          "metadata": {},
          "execution_count": 21
        }
      ]
    },
    {
      "cell_type": "code",
      "metadata": {
        "colab": {
          "base_uri": "https://localhost:8080/"
        },
        "id": "lmgvvshzh0yM",
        "outputId": "5dbd83ad-d82a-45bb-c1ee-2592dcf500fd"
      },
      "source": [
        "cat_classifier1.get_best_score()"
      ],
      "execution_count": null,
      "outputs": [
        {
          "output_type": "execute_result",
          "data": {
            "text/plain": [
              "{'learn': {'Accuracy': 1.0, 'Logloss': 0.020894932691362},\n",
              " 'validation': {'Accuracy': 0.7543103448275862, 'Logloss': 0.5156301009820214}}"
            ]
          },
          "metadata": {},
          "execution_count": 22
        }
      ]
    },
    {
      "cell_type": "code",
      "metadata": {
        "colab": {
          "base_uri": "https://localhost:8080/"
        },
        "id": "Ezckp1idiLGh",
        "outputId": "a1c99111-aff4-4769-8556-f19039f6f0b6"
      },
      "source": [
        "preds = cat_classifier1.predict(X_test)\n",
        "targets = list(y_test[\"label\"])\n",
        "\n",
        "names = ['stand', 'not stand']\n",
        "\n",
        "n = len(names)\n",
        "\n",
        "classes_count = [0] * n\n",
        "classes_correct = [0] * n\n",
        "\n",
        "for idx in range(len(targets)):\n",
        "    classes_count[targets[idx]] += 1\n",
        "    if targets[idx] == preds[idx]:\n",
        "        classes_correct[targets[idx]] += 1\n",
        "\n",
        "plt.rcParams['figure.figsize'] = (6, 7)\n",
        "plt.bar(range(n), classes_count, color=\"red\");\n",
        "plt.bar(range(n), classes_correct, color=\"green\");\n",
        "plt.xticks(range(n), names);\n",
        "plt.ylabel('Correct/Total number of class elements')\n",
        "plt.xlabel('Classes')\n",
        "plt.title(\"Prediction histogram\")\n",
        "plt.show()\n",
        "\n",
        "print()\n",
        "for idx in range(n):\n",
        "    print(\"{}:   {}/{}   {:.1f}%\".format(names[idx].title(), classes_correct[idx], classes_count[idx], 100*classes_correct[idx]/classes_count[idx]))\n",
        "\n",
        "print(\"\\ntotal:   {}/{}   {:.1f}%\".format(sum(classes_correct), sum(classes_count), 100*sum(classes_correct)/sum(classes_count)))"
      ],
      "execution_count": null,
      "outputs": [
        {
          "output_type": "display_data",
          "data": {
            "image/png": "[encoded data removed]",
            "text/plain": [
              "<Figure size 432x504 with 1 Axes>"
            ]
          },
          "metadata": {
            "needs_background": "light"
          }
        },
        {
          "output_type": "stream",
          "name": "stdout",
          "text": [
            "\n",
            "Stand:   74/86   86.0%\n",
            "Not Stand:   43/69   62.3%\n",
            "\n",
            "total:   117/155   75.5%\n"
          ]
        }
      ]
    },
    {
      "cell_type": "code",
      "metadata": {
        "id": "Of4wUPKiDGWY"
      },
      "source": [
        "cat_classifier1.save_model('cat_classifier_stand2')"
      ],
      "execution_count": null,
      "outputs": []
    },
    {
      "cell_type": "markdown",
      "metadata": {
        "id": "7xvhcZHcqVx_"
      },
      "source": [
        "##### Разбиение оставшихся 4 классов"
      ]
    },
    {
      "cell_type": "code",
      "metadata": {
        "id": "a42q6LsFjcdg"
      },
      "source": [
        "next_idx = 0\n",
        "\n",
        "X_new = pd.DataFrame()\n",
        "y_new = pd.DataFrame()\n",
        "\n",
        "for idx in list(map(int, X.index)):\n",
        "    features = list(X.loc[idx])\n",
        "    answers = list(y.loc[idx])\n",
        "\n",
        "    if answers[-1] == 1:\n",
        "        X_new = X_new.append(pd.Series(features, index=X.columns, name=next_idx))\n",
        "        y_new = y_new.append(pd.Series(answers, index=y.columns, name=next_idx))\n",
        "        next_idx += 1\n",
        "\n",
        "y_new.pop('stand')\n",
        "y_new.pop('label')\n",
        "X_new = X_new[X.columns]"
      ],
      "execution_count": null,
      "outputs": []
    },
    {
      "cell_type": "code",
      "metadata": {
        "id": "Dll9uWX9kxzy"
      },
      "source": [
        "y_new['label'] = 0\n",
        "\n",
        "y_columns = list(y.columns)\n",
        "y_columns.remove('label')\n",
        "y_columns.remove('stand')\n",
        "\n",
        "for idx in range(len(y_columns)):\n",
        "    y_new['label'] += y_new[y_columns[idx]] * idx\n",
        "    \n",
        "y_new = y_new.astype(int)"
      ],
      "execution_count": null,
      "outputs": []
    },
    {
      "cell_type": "code",
      "metadata": {
        "colab": {
          "base_uri": "https://localhost:8080/"
        },
        "id": "HI_zSw_Iomb8",
        "outputId": "e77b3c61-3557-45a7-99a1-85f087224adc"
      },
      "source": [
        "X_new_train, X_new_test, y_new_train, y_new_test = train_test_split(X_new, y_new, test_size=0.4, random_state=22)\n",
        "X_new_val, X_new_test, y_new_val, y_new_test = train_test_split(X_new_test, y_new_test, test_size=43/167, random_state=22)\n",
        "\n",
        "print(f\"SPLIT\\nTrain:\\t{len(X_new_train)}\\nVal:\\t{len(X_new_val)}\\nTest:\\t{len(X_new_test)}\")"
      ],
      "execution_count": null,
      "outputs": [
        {
          "output_type": "stream",
          "name": "stdout",
          "text": [
            "SPLIT\n",
            "Train:\t250\n",
            "Val:\t124\n",
            "Test:\t43\n"
          ]
        }
      ]
    },
    {
      "cell_type": "code",
      "metadata": {
        "id": "sNP-k7Ibo4LW"
      },
      "source": [
        "train_pool = Pool(data=X_new_train, label=y_new_train['label'])\n",
        "eval_pool = Pool(data=X_new_val, label=y_new_val['label']) "
      ],
      "execution_count": null,
      "outputs": []
    },
    {
      "cell_type": "code",
      "metadata": {
        "id": "6slQ5lIMyqDs"
      },
      "source": [
        "cat_classifier2 = CatBoostClassifier(\n",
        "    loss_function='MultiClass',\n",
        "    eval_metric='Accuracy',\n",
        "    use_best_model=True,\n",
        "    random_state = 22\n",
        ")"
      ],
      "execution_count": null,
      "outputs": []
    },
    {
      "cell_type": "code",
      "metadata": {
        "colab": {
          "base_uri": "https://localhost:8080/"
        },
        "id": "0k6IwSaUy1yn",
        "outputId": "30e8448c-aef7-40de-c9d0-024c55cc8304"
      },
      "source": [
        "cat_classifier2.fit(train_pool, eval_set=eval_pool, verbose=False, plot=False)"
      ],
      "execution_count": null,
      "outputs": [
        {
          "output_type": "execute_result",
          "data": {
            "text/plain": [
              "<catboost.core.CatBoostClassifier at 0x7f6e2af0ce90>"
            ]
          },
          "metadata": {},
          "execution_count": 29
        }
      ]
    },
    {
      "cell_type": "code",
      "metadata": {
        "colab": {
          "base_uri": "https://localhost:8080/"
        },
        "id": "Uvtr_5d3Uzcz",
        "outputId": "7707c511-fac9-4b21-e618-18819f4db70c"
      },
      "source": [
        "cat_classifier2.get_best_score()"
      ],
      "execution_count": null,
      "outputs": [
        {
          "output_type": "execute_result",
          "data": {
            "text/plain": [
              "{'learn': {'Accuracy': 1.0, 'MultiClass': 0.014061682248007985},\n",
              " 'validation': {'Accuracy': 0.6693548387096774,\n",
              "  'MultiClass': 0.8881287997762427}}"
            ]
          },
          "metadata": {},
          "execution_count": 30
        }
      ]
    },
    {
      "cell_type": "code",
      "metadata": {
        "colab": {
          "base_uri": "https://localhost:8080/",
          "height": 632
        },
        "id": "n0yaN2dRbSo6",
        "outputId": "06a20143-b137-4fa9-80ed-444584e4961f"
      },
      "source": [
        "preds = cat_classifier2.predict(X_new_test)\n",
        "targets = list(y_new_test[\"label\"])\n",
        "\n",
        "names = y_columns\n",
        "\n",
        "n = len(names)\n",
        "\n",
        "classes_count = [0] * n\n",
        "classes_correct = [0] * n\n",
        "\n",
        "for idx in range(len(targets)):\n",
        "    classes_count[targets[idx]] += 1\n",
        "    if targets[idx] == preds[idx]:\n",
        "        classes_correct[targets[idx]] += 1\n",
        "\n",
        "plt.rcParams['figure.figsize'] = (14, 8)\n",
        "plt.bar(range(n), classes_count, color=\"red\");\n",
        "plt.bar(range(n), classes_correct, color=\"green\");\n",
        "plt.xticks(range(n), names);\n",
        "plt.ylabel('Correct/Total number of class elements')\n",
        "plt.xlabel('Classes')\n",
        "plt.title(\"Prediction histogram\")\n",
        "plt.show()\n",
        "\n",
        "print()\n",
        "for idx in range(n):\n",
        "    print(\"{}:   {}/{}   {:.1f}%\".format(names[idx].title(), classes_correct[idx], classes_count[idx], 100*classes_correct[idx]/classes_count[idx]))\n",
        "\n",
        "print(\"\\ntotal:   {}/{}   {:.1f}%\".format(sum(classes_correct), sum(classes_count), 100*sum(classes_correct)/sum(classes_count)))"
      ],
      "execution_count": null,
      "outputs": [
        {
          "output_type": "display_data",
          "data": {
            "image/png": "[encoded data removed]",
            "text/plain": [
              "<Figure size 1008x576 with 1 Axes>"
            ]
          },
          "metadata": {
            "needs_background": "light"
          }
        },
        {
          "output_type": "stream",
          "name": "stdout",
          "text": [
            "\n",
            "Sit:   4/9   44.4%\n",
            "Lie:   8/12   66.7%\n",
            "Go:   16/16   100.0%\n",
            "Run:   2/6   33.3%\n",
            "\n",
            "total:   30/43   69.8%\n"
          ]
        }
      ]
    },
    {
      "cell_type": "code",
      "metadata": {
        "id": "6lTMAOlJ0XvI"
      },
      "source": [
        "cat_classifier2.save_model('cat_classifier_last4')"
      ],
      "execution_count": null,
      "outputs": []
    },
    {
      "cell_type": "markdown",
      "source": [
        "##### Разбиение на 3 класса"
      ],
      "metadata": {
        "id": "V4nEGcCMiTMU"
      }
    },
    {
      "cell_type": "code",
      "source": [
        "train_pool = Pool(data=X_train, label=y_train['label'])\n",
        "eval_pool = Pool(data=X_val, label=y_val['label']) "
      ],
      "metadata": {
        "id": "6gzApJZficSp"
      },
      "execution_count": null,
      "outputs": []
    },
    {
      "cell_type": "code",
      "source": [
        "cat_classifier3 = CatBoostClassifier(\n",
        "    loss_function='MultiClass',\n",
        "    eval_metric='Accuracy',\n",
        "    use_best_model=True,\n",
        "    random_state = 22\n",
        ")"
      ],
      "metadata": {
        "id": "1Ixr-Oc_igIF"
      },
      "execution_count": null,
      "outputs": []
    },
    {
      "cell_type": "code",
      "source": [
        "cat_classifier3.fit(train_pool, eval_set=eval_pool, verbose=False, plot=False)"
      ],
      "metadata": {
        "colab": {
          "base_uri": "https://localhost:8080/"
        },
        "id": "m89IdRGBite8",
        "outputId": "dfd1ee81-6947-421f-c70d-c29be2ee6adc"
      },
      "execution_count": null,
      "outputs": [
        {
          "output_type": "execute_result",
          "data": {
            "text/plain": [
              "<catboost.core.CatBoostClassifier at 0x7f03c4cbbf50>"
            ]
          },
          "metadata": {},
          "execution_count": 76
        }
      ]
    },
    {
      "cell_type": "code",
      "source": [
        "cat_classifier3.get_best_score()"
      ],
      "metadata": {
        "colab": {
          "base_uri": "https://localhost:8080/"
        },
        "id": "MEnTG6hAi_uj",
        "outputId": "b07b5e2a-8e78-4ad0-a789-93994b5f8dc3"
      },
      "execution_count": null,
      "outputs": [
        {
          "output_type": "execute_result",
          "data": {
            "text/plain": [
              "{'learn': {'Accuracy': 1.0, 'MultiClass': 0.018407440371111427},\n",
              " 'validation': {'Accuracy': 0.728448275862069,\n",
              "  'MultiClass': 0.6011797234605308}}"
            ]
          },
          "metadata": {},
          "execution_count": 77
        }
      ]
    },
    {
      "cell_type": "code",
      "source": [
        "preds = cat_classifier3.predict(X_test)\n",
        "targets = list(y_test[\"label\"])\n",
        "\n",
        "names = ['nothing', 'stand', 'not stand']\n",
        "\n",
        "n = len(names)\n",
        "\n",
        "classes_count = [0] * n\n",
        "classes_correct = [0] * n\n",
        "\n",
        "for idx in range(len(targets)):\n",
        "    classes_count[targets[idx]] += 1\n",
        "    if targets[idx] == preds[idx]:\n",
        "        classes_correct[targets[idx]] += 1\n",
        "\n",
        "plt.rcParams['figure.figsize'] = (6, 7)\n",
        "plt.bar(range(n), classes_count, color=\"red\");\n",
        "plt.bar(range(n), classes_correct, color=\"green\");\n",
        "plt.xticks(range(n), names);\n",
        "plt.ylabel('Correct/Total number of class elements')\n",
        "plt.xlabel('Classes')\n",
        "plt.title(\"Prediction histogram\")\n",
        "plt.show()\n",
        "\n",
        "print()\n",
        "for idx in range(n):\n",
        "    print(\"{}:   {}/{}   {:.1f}%\".format(names[idx].title(), classes_correct[idx], classes_count[idx], 100*classes_correct[idx]/classes_count[idx]))\n",
        "\n",
        "print(\"\\ntotal:   {}/{}   {:.1f}%\".format(sum(classes_correct), sum(classes_count), 100*sum(classes_correct)/sum(classes_count)))"
      ],
      "metadata": {
        "colab": {
          "base_uri": "https://localhost:8080/"
        },
        "id": "TlGAaXDojEH6",
        "outputId": "6182f837-c546-41a8-f423-b74147e469e9"
      },
      "execution_count": null,
      "outputs": [
        {
          "output_type": "display_data",
          "data": {
            "image/png": "[encoded data removed]",
            "text/plain": [
              "<Figure size 432x504 with 1 Axes>"
            ]
          },
          "metadata": {
            "needs_background": "light"
          }
        },
        {
          "output_type": "stream",
          "name": "stdout",
          "text": [
            "\n",
            "Nothing:   13/14   92.9%\n",
            "Stand:   75/85   88.2%\n",
            "Not Stand:   25/56   44.6%\n",
            "\n",
            "total:   113/155   72.9%\n"
          ]
        }
      ]
    },
    {
      "cell_type": "code",
      "source": [
        "cat_classifier3.save_model('cat_classifier_nothstand3')"
      ],
      "metadata": {
        "id": "qEK6jD8glmwv"
      },
      "execution_count": null,
      "outputs": []
    },
    {
      "cell_type": "markdown",
      "source": [
        "##### Разбиение на оставшиеся 4 класса"
      ],
      "metadata": {
        "id": "NvHIQP2djuMh"
      }
    },
    {
      "cell_type": "code",
      "source": [
        "next_idx = 0\n",
        "\n",
        "X_new = pd.DataFrame()\n",
        "y_new = pd.DataFrame()\n",
        "\n",
        "for idx in list(map(int, X.index)):\n",
        "    features = list(X.loc[idx])\n",
        "    answers = list(y.loc[idx])\n",
        "\n",
        "    if answers[-1] == 2:\n",
        "        X_new = X_new.append(pd.Series(features, index=X.columns, name=next_idx))\n",
        "        y_new = y_new.append(pd.Series(answers, index=y.columns, name=next_idx))\n",
        "        next_idx += 1\n",
        "\n",
        "y_new.pop('stand')\n",
        "y_new.pop('nothing')\n",
        "y_new.pop('label')\n",
        "X_new = X_new[X.columns]"
      ],
      "metadata": {
        "id": "hP4otJeVjx1N"
      },
      "execution_count": null,
      "outputs": []
    },
    {
      "cell_type": "code",
      "source": [
        "y_new['label'] = 0\n",
        "\n",
        "y_columns = list(y.columns)\n",
        "y_columns.remove('label')\n",
        "y_columns.remove('stand')\n",
        "y_columns.remove('nothing')\n",
        "\n",
        "for idx in range(len(y_columns)):\n",
        "    y_new['label'] += y_new[y_columns[idx]] * idx\n",
        "    \n",
        "y_new = y_new.astype(int)"
      ],
      "metadata": {
        "id": "d22spAiqj0V1"
      },
      "execution_count": null,
      "outputs": []
    },
    {
      "cell_type": "code",
      "source": [
        "X_new_train, X_new_test, y_new_train, y_new_test = train_test_split(X_new, y_new, test_size=0.4, random_state=22)\n",
        "X_new_val, X_new_test, y_new_val, y_new_test = train_test_split(X_new_test, y_new_test, test_size=25/140, random_state=22)\n",
        "\n",
        "print(f\"SPLIT\\nTrain:\\t{len(X_new_train)}\\nVal:\\t{len(X_new_val)}\\nTest:\\t{len(X_new_test)}\")"
      ],
      "metadata": {
        "colab": {
          "base_uri": "https://localhost:8080/"
        },
        "id": "u6H3LF8llHZY",
        "outputId": "8bd299c3-1324-4f9b-a019-bfa2ad4cd1d6"
      },
      "execution_count": null,
      "outputs": [
        {
          "output_type": "stream",
          "name": "stdout",
          "text": [
            "SPLIT\n",
            "Train:\t210\n",
            "Val:\t115\n",
            "Test:\t25\n"
          ]
        }
      ]
    },
    {
      "cell_type": "code",
      "source": [
        "train_pool = Pool(data=X_new_train, label=y_new_train['label'])\n",
        "eval_pool = Pool(data=X_new_val, label=y_new_val['label']) "
      ],
      "metadata": {
        "id": "GJV5aW78lVlH"
      },
      "execution_count": null,
      "outputs": []
    },
    {
      "cell_type": "code",
      "source": [
        "cat_classifier34 = CatBoostClassifier(\n",
        "    loss_function='MultiClass',\n",
        "    eval_metric='Accuracy',\n",
        "    use_best_model=True,\n",
        "    random_state = 22\n",
        ")"
      ],
      "metadata": {
        "id": "H4a4imk7la8H"
      },
      "execution_count": null,
      "outputs": []
    },
    {
      "cell_type": "code",
      "source": [
        "cat_classifier34.fit(train_pool, eval_set=eval_pool, verbose=False, plot=False)"
      ],
      "metadata": {
        "colab": {
          "base_uri": "https://localhost:8080/"
        },
        "id": "IDFeqOzulfJb",
        "outputId": "a5fbf52f-cdfc-49e4-8bbe-94c0ff2e00b0"
      },
      "execution_count": null,
      "outputs": [
        {
          "output_type": "execute_result",
          "data": {
            "text/plain": [
              "<catboost.core.CatBoostClassifier at 0x7f03c390dc10>"
            ]
          },
          "metadata": {},
          "execution_count": 84
        }
      ]
    },
    {
      "cell_type": "code",
      "source": [
        "cat_classifier34.get_best_score()"
      ],
      "metadata": {
        "colab": {
          "base_uri": "https://localhost:8080/"
        },
        "id": "Igm3rA9tlwGK",
        "outputId": "18633ecc-de65-44f7-b6c5-3b7718f9d524"
      },
      "execution_count": null,
      "outputs": [
        {
          "output_type": "execute_result",
          "data": {
            "text/plain": [
              "{'learn': {'Accuracy': 1.0, 'MultiClass': 0.01229503102917259},\n",
              " 'validation': {'Accuracy': 0.6782608695652174,\n",
              "  'MultiClass': 0.8860011681879918}}"
            ]
          },
          "metadata": {},
          "execution_count": 85
        }
      ]
    },
    {
      "cell_type": "code",
      "source": [
        "preds = cat_classifier34.predict(X_new_test)\n",
        "targets = list(y_new_test[\"label\"])\n",
        "\n",
        "names = y_columns\n",
        "\n",
        "n = len(names)\n",
        "\n",
        "classes_count = [0] * n\n",
        "classes_correct = [0] * n\n",
        "\n",
        "for idx in range(len(targets)):\n",
        "    classes_count[targets[idx]] += 1\n",
        "    if targets[idx] == preds[idx]:\n",
        "        classes_correct[targets[idx]] += 1\n",
        "\n",
        "plt.rcParams['figure.figsize'] = (14, 8)\n",
        "plt.bar(range(n), classes_count, color=\"red\");\n",
        "plt.bar(range(n), classes_correct, color=\"green\");\n",
        "plt.xticks(range(n), names);\n",
        "plt.ylabel('Correct/Total number of class elements')\n",
        "plt.xlabel('Classes')\n",
        "plt.title(\"Prediction histogram\")\n",
        "plt.show()\n",
        "\n",
        "print()\n",
        "for idx in range(n):\n",
        "    print(\"{}:   {}/{}   {:.1f}%\".format(names[idx].title(), classes_correct[idx], classes_count[idx], 100*classes_correct[idx]/classes_count[idx]))\n",
        "\n",
        "print(\"\\ntotal:   {}/{}   {:.1f}%\".format(sum(classes_correct), sum(classes_count), 100*sum(classes_correct)/sum(classes_count)))"
      ],
      "metadata": {
        "colab": {
          "base_uri": "https://localhost:8080/",
          "height": 632
        },
        "id": "9D7QaotNlzYl",
        "outputId": "84848022-9841-4c12-dad1-92148e908acd"
      },
      "execution_count": null,
      "outputs": [
        {
          "output_type": "display_data",
          "data": {
            "image/png": "[encoded data removed]",
            "text/plain": [
              "<Figure size 1008x576 with 1 Axes>"
            ]
          },
          "metadata": {
            "needs_background": "light"
          }
        },
        {
          "output_type": "stream",
          "name": "stdout",
          "text": [
            "\n",
            "Sit:   5/5   100.0%\n",
            "Lie:   5/7   71.4%\n",
            "Go:   6/9   66.7%\n",
            "Run:   1/4   25.0%\n",
            "\n",
            "total:   17/25   68.0%\n"
          ]
        }
      ]
    },
    {
      "cell_type": "code",
      "source": [
        "cat_classifier34.save_model('cat_classifier_nothlast4')"
      ],
      "metadata": {
        "id": "yVeegDTPl7sT"
      },
      "execution_count": null,
      "outputs": []
    },
    {
      "cell_type": "markdown",
      "metadata": {
        "id": "SodqLenCm0Zu"
      },
      "source": [
        "# MyNet\n",
        "0.6341"
      ]
    },
    {
      "cell_type": "code",
      "metadata": {
        "id": "9brCCXjrU1VT"
      },
      "source": [
        "class AnimalsDataset(Dataset):\n",
        "    def __init__(self, csv_file, root_dir, transform=None):\n",
        "        self.data = csv_file\n",
        "        self.root_dir = root_dir\n",
        "        self.transform = transform\n",
        "\n",
        "    def __len__(self):\n",
        "        return len(self.data)\n",
        "\n",
        "    def __getitem__(self, idx):\n",
        "        img_idx = self.data.iloc[idx, 0]\n",
        "        img_name = os.path.join(self.root_dir, \"0\"*(3-len(str(img_idx))) + str(img_idx) + \".jpeg\")\n",
        "        image = Image.open(img_name)\n",
        "        features = self.data.iloc[idx, 1:].to_numpy()\n",
        "\n",
        "        if self.transform:\n",
        "            image = self.transform(image)\n",
        "\n",
        "        sample = (image, features)\n",
        "\n",
        "        return sample"
      ],
      "execution_count": null,
      "outputs": []
    },
    {
      "cell_type": "code",
      "metadata": {
        "id": "mIA38WnanNoS"
      },
      "source": [
        "target_size = (188, 188)"
      ],
      "execution_count": null,
      "outputs": []
    },
    {
      "cell_type": "code",
      "metadata": {
        "colab": {
          "base_uri": "https://localhost:8080/"
        },
        "id": "7QE5flz9nQF5",
        "outputId": "c1e4805e-54ba-49da-aeec-6ac98d9ac1d1"
      },
      "source": [
        "train_transforms = transforms.Compose([\n",
        "        transforms.Resize(target_size),\n",
        "        transforms.ToTensor()\n",
        "])\n",
        "\n",
        "\n",
        "for column in df.columns:\n",
        "    if '_x' in column or '_width' in column or '_y' in column or '_height' in column:\n",
        "        df[column] = df[column].astype(float)\n",
        "\n",
        "df_dict = df.to_dict()\n",
        "\n",
        "for idx in df_dict['id'].values():\n",
        "    img_name = os.path.join(data_dir, 'animals', \"0\"*(3-len(str(idx))) + str(idx) + \".jpeg\")\n",
        "    image = Image.open(img_name)\n",
        "    x_size, y_size = image.size\n",
        "    for column in df_dict.keys():\n",
        "        if '_x' in column or '_width' in column:\n",
        "            df_dict[column][idx] /= x_size\n",
        "        elif '_y' in column or '_height' in column:\n",
        "            df_dict[column][idx] /= y_size\n",
        "\n",
        "df = pd.DataFrame.from_dict(df_dict)\n",
        "\n",
        "dataset = AnimalsDataset(csv_file=df, root_dir=os.path.join(data_dir, 'animals'), transform=train_transforms)\n",
        "\n",
        "print(f\"Экземпляров в датасете: {len(dataset)}\")"
      ],
      "execution_count": null,
      "outputs": [
        {
          "name": "stdout",
          "output_type": "stream",
          "text": [
            "Экземпляров в датасете: 967\n"
          ]
        }
      ]
    },
    {
      "cell_type": "code",
      "metadata": {
        "id": "k5QWFGkro5hM"
      },
      "source": [
        "train_set, val_set, test_set = torch.utils.data.random_split(dataset, [580, 232, 155])\n",
        "\n",
        "batch_size = 20\n",
        "num_workers = 0\n",
        "\n",
        "train_dataloader = DataLoader(train_set, batch_size=batch_size, shuffle=True, num_workers=num_workers)\n",
        "val_dataloader = DataLoader(val_set, batch_size=batch_size, shuffle=True, num_workers=num_workers)\n",
        "test_dataloader = DataLoader(test_set, batch_size=batch_size, shuffle=True, num_workers=num_workers)"
      ],
      "execution_count": null,
      "outputs": []
    },
    {
      "cell_type": "code",
      "metadata": {
        "colab": {
          "base_uri": "https://localhost:8080/"
        },
        "id": "Hrsa36JYpJnF",
        "outputId": "e4dd19d0-626b-4ea0-aaf4-600b7686cc6e"
      },
      "source": [
        "device = torch.device(\"cuda:0\" if torch.cuda.is_available() else \"cpu\")\n",
        "print(\"Device:\", device)"
      ],
      "execution_count": null,
      "outputs": [
        {
          "name": "stdout",
          "output_type": "stream",
          "text": [
            "Device: cuda:0\n"
          ]
        }
      ]
    },
    {
      "cell_type": "code",
      "metadata": {
        "id": "c1vvS1gnpb0E"
      },
      "source": [
        "class MyNet(nn.Module):\n",
        "    def __init__(self):\n",
        "        super(MyNet, self).__init__()\n",
        "        self.conv1 = nn.Conv2d(3, 10, kernel_size=3)\n",
        "        self.conv1_1 = nn.Conv2d(10, 10, kernel_size=3)\n",
        "        self.conv2 = nn.Conv2d(10, 20, kernel_size=3)\n",
        "        self.conv3 = nn.Conv2d(20, 20, kernel_size=3)\n",
        "        self.conv4 = nn.Conv2d(20, 30, kernel_size=3)\n",
        "\n",
        "        self.fc1 = nn.Linear(1280, 640)\n",
        "        self.fc2 = nn.Linear(640, 300)\n",
        "        self.fc3 = nn.Linear(300, 100)\n",
        "        self.fc4 = nn.Linear(100, 31)\n",
        "\n",
        "        self.fc5 = nn.Linear(100, 60)\n",
        "        self.fc6 = nn.Linear(60, 30)\n",
        "        self.fc7 = nn.Linear(30, 20)\n",
        "        self.fc8 = nn.Linear(20, 9)\n",
        "\n",
        "        self.dropout = nn.Dropout2d()\n",
        "        self.bn21 = nn.BatchNorm2d(10)\n",
        "        self.bn22 = nn.BatchNorm2d(20)\n",
        "        self.bn11 = nn.BatchNorm1d(60)\n",
        "        self.bn12 = nn.BatchNorm1d(30)\n",
        "        self.bn13 = nn.BatchNorm1d(20)\n",
        "\n",
        "\n",
        "    \n",
        "    def forward(self, x, x1):\n",
        "        # input is 256x256x3\n",
        "        # conv1(kernel=3, filters=10)x2 188x188x3 -> 184x184x10\n",
        "        # max_pool(kernel=2) 184x184x10 -> 92x92x10\n",
        "        x = F.relu(self.bn21(F.max_pool2d(self.conv1_1(self.conv1(x)), 2)))\n",
        "        \n",
        "        # conv2(kernel=3, filters=20)x2 92x92x10 -> 88x88x20\n",
        "        # max_pool(kernel=2) 88x88x20 -> 44x44x20\n",
        "        x = F.relu(self.bn22(F.max_pool2d(self.dropout(self.conv3(self.conv2(x))), 2)))\n",
        "\n",
        "        # conv2(kernel=3, filters=20)x2 44x44x20 -> 40x40x20\n",
        "        # max_pool(kernel=2) 40x40x20 -> 20x20x20\n",
        "        x = F.relu(self.bn22(F.max_pool2d(self.dropout(self.conv3(self.conv3(x))), 2)))\n",
        "\n",
        "        # conv2(kernel=3, filters=20)x2 20x20x20 -> 16x16x20\n",
        "        # max_pool(kernel=2) 16x16x20 -> 8x8x20\n",
        "        x = F.relu(self.bn22(F.max_pool2d(self.dropout(self.conv3(self.conv3(x))), 2)))\n",
        "        \n",
        "        # flatten 8x8x20 = 1280\n",
        "        x = x.view(-1, 1280)\n",
        "        \n",
        "        # 1280 -> 640\n",
        "        x = F.relu(self.fc1(x))\n",
        "        x = F.dropout(x, training=self.training)\n",
        "\n",
        "        # 640 -> 300\n",
        "        x = F.relu(self.fc2(x))\n",
        "        x = F.dropout(x, training=self.training)\n",
        "\n",
        "        # 300 -> 100\n",
        "        x = F.relu(self.fc3(x))\n",
        "        x = F.dropout(x, training=self.training)\n",
        "        \n",
        "        # 100 -> 31\n",
        "        x = F.softmax(self.fc4(x))\n",
        "        \n",
        "        # 31 + 69 = 100\n",
        "        x = torch.cat((x, x1.float()), dim=1)\n",
        "\n",
        "        # 100 -> 60\n",
        "        x = F.relu(self.bn11(self.fc5(x)))\n",
        "        x = F.dropout(x, training=self.training)\n",
        "\n",
        "        # 60 -> 30\n",
        "        x = F.relu(self.bn12(self.fc6(x)))\n",
        "        x = F.dropout(x, training=self.training)\n",
        "\n",
        "        # 30 -> 20\n",
        "        x = F.relu(self.bn13(self.fc7(x)))\n",
        "        x = F.dropout(x, training=self.training)\n",
        "\n",
        "        # 20 -> 9\n",
        "        x = self.fc8(x)\n",
        "\n",
        "        return F.log_softmax(x)"
      ],
      "execution_count": null,
      "outputs": []
    },
    {
      "cell_type": "code",
      "metadata": {
        "id": "XO-GujUPy6Ri"
      },
      "source": [
        "model = MyNet()\n",
        "model.to(device)\n",
        "\n",
        "criterion = nn.NLLLoss()\n",
        "\n",
        "params = [p for p in model.parameters() if p.requires_grad]\n",
        "optimizer = torch.optim.Adam(params, amsgrad=True, lr=0.001)\n",
        "\n",
        "loss_history = {'train':[], 'val':[]}\n",
        "acc_history = []"
      ],
      "execution_count": null,
      "outputs": []
    },
    {
      "cell_type": "code",
      "metadata": {
        "id": "eJMtu_Pzy8Zi"
      },
      "source": [
        "def train():\n",
        "    model.train()\n",
        "\n",
        "    running_loss = 0.\n",
        "    for images, targets in train_dataloader:\n",
        "        images = images.to(device)\n",
        "        targets = targets.to(device)\n",
        "        x1, answers = targets[:, :-9], torch.max(targets[:, -9:], 1)[1]\n",
        "\n",
        "        images = Variable(images)\n",
        "        x1 = Variable(x1)\n",
        "        answers = Variable(answers)\n",
        "\n",
        "        optimizer.zero_grad()\n",
        "\n",
        "        with torch.set_grad_enabled(True):\n",
        "            preds = model(images, x1)\n",
        "\n",
        "            loss = criterion(preds, answers)\n",
        "            loss.backward()\n",
        "            running_loss += loss.item() / len(images)\n",
        "\n",
        "            optimizer.step()\n",
        "\n",
        "    epoch_loss = running_loss/len(train_dataloader)\n",
        "    loss_history['train'].append(epoch_loss)\n",
        "    print('TRAIN Average loss: {:.4f}'.format(epoch_loss))"
      ],
      "execution_count": null,
      "outputs": []
    },
    {
      "cell_type": "code",
      "metadata": {
        "id": "YQWNEj4wy9zL"
      },
      "source": [
        "def val():\n",
        "    model.eval()\n",
        "\n",
        "    running_loss = 0.\n",
        "    correct = 0\n",
        "    for images, targets in val_dataloader:\n",
        "        images = images.to(device)\n",
        "        targets = targets.to(device)\n",
        "        x1, answers = targets[:, :-9], torch.max(targets[:, -9:], 1)[1]\n",
        "\n",
        "        images = Variable(images)\n",
        "        x1 = Variable(x1)\n",
        "        answers = Variable(answers)\n",
        "        \n",
        "        with torch.no_grad():\n",
        "            preds = model(images, x1)\n",
        "            loss = criterion(preds, answers)\n",
        "            running_loss += loss.item() / len(images)\n",
        "\n",
        "            pred = torch.max(preds.data, 1)[1]\n",
        "            correct += pred.eq(answers.data).cpu().sum() / len(images)\n",
        "\n",
        "\n",
        "    epoch_loss = running_loss/len(val_dataloader)\n",
        "    loss_history['val'].append(epoch_loss)\n",
        "    accuracy = correct / len(val_dataloader)\n",
        "    acc_history.append(accuracy)\n",
        "    print('EVAL  Average loss: {:.4f}, Accuracy: {:.4f}\\n'.format(epoch_loss, accuracy))"
      ],
      "execution_count": null,
      "outputs": []
    },
    {
      "cell_type": "code",
      "metadata": {
        "colab": {
          "base_uri": "https://localhost:8080/"
        },
        "id": "5-ki753Vy_pb",
        "outputId": "bd3f4d9b-65d2-4299-f89a-a953d3520e8a"
      },
      "source": [
        "num_epochs = 15\n",
        "\n",
        "for epoch in range(num_epochs):\n",
        "    print(\"Epoch %d\" % epoch)\n",
        "    train()\n",
        "    val()"
      ],
      "execution_count": null,
      "outputs": [
        {
          "name": "stdout",
          "output_type": "stream",
          "text": [
            "Epoch 0\n"
          ]
        },
        {
          "name": "stderr",
          "output_type": "stream",
          "text": [
            "/usr/local/lib/python3.7/dist-packages/ipykernel_launcher.py:63: UserWarning: Implicit dimension choice for softmax has been deprecated. Change the call to include dim=X as an argument.\n",
            "/usr/local/lib/python3.7/dist-packages/ipykernel_launcher.py:83: UserWarning: Implicit dimension choice for log_softmax has been deprecated. Change the call to include dim=X as an argument.\n"
          ]
        },
        {
          "name": "stdout",
          "output_type": "stream",
          "text": [
            "TRAIN Average loss: 0.1136\n",
            "EVAL  Average loss: 0.1141, Accuracy: 0.0611\n",
            "\n",
            "Epoch 1\n",
            "TRAIN Average loss: 0.1048\n",
            "EVAL  Average loss: 0.1064, Accuracy: 0.2958\n",
            "\n",
            "Epoch 2\n",
            "TRAIN Average loss: 0.0971\n",
            "EVAL  Average loss: 0.1006, Accuracy: 0.4403\n",
            "\n",
            "Epoch 3\n",
            "TRAIN Average loss: 0.0922\n",
            "EVAL  Average loss: 0.0972, Accuracy: 0.4583\n",
            "\n",
            "Epoch 4\n",
            "TRAIN Average loss: 0.0888\n",
            "EVAL  Average loss: 0.0924, Accuracy: 0.5292\n",
            "\n",
            "Epoch 5\n",
            "TRAIN Average loss: 0.0846\n",
            "EVAL  Average loss: 0.0901, Accuracy: 0.5708\n",
            "\n",
            "Epoch 6\n",
            "TRAIN Average loss: 0.0832\n",
            "EVAL  Average loss: 0.0851, Accuracy: 0.5833\n",
            "\n",
            "Epoch 7\n",
            "TRAIN Average loss: 0.0814\n",
            "EVAL  Average loss: 0.0832, Accuracy: 0.5806\n",
            "\n",
            "Epoch 8\n",
            "TRAIN Average loss: 0.0812\n",
            "EVAL  Average loss: 0.0832, Accuracy: 0.5722\n",
            "\n",
            "Epoch 9\n",
            "TRAIN Average loss: 0.0769\n",
            "EVAL  Average loss: 0.0802, Accuracy: 0.5778\n",
            "\n",
            "Epoch 10\n",
            "TRAIN Average loss: 0.0779\n",
            "EVAL  Average loss: 0.0752, Accuracy: 0.5833\n",
            "\n",
            "Epoch 11\n",
            "TRAIN Average loss: 0.0787\n",
            "EVAL  Average loss: 0.0767, Accuracy: 0.5750\n",
            "\n",
            "Epoch 12\n",
            "TRAIN Average loss: 0.0762\n",
            "EVAL  Average loss: 0.0731, Accuracy: 0.5861\n",
            "\n",
            "Epoch 13\n",
            "TRAIN Average loss: 0.0753\n",
            "EVAL  Average loss: 0.0729, Accuracy: 0.5972\n",
            "\n",
            "Epoch 14\n",
            "TRAIN Average loss: 0.0745\n",
            "EVAL  Average loss: 0.0753, Accuracy: 0.5861\n",
            "\n"
          ]
        }
      ]
    },
    {
      "cell_type": "code",
      "metadata": {
        "colab": {
          "base_uri": "https://localhost:8080/"
        },
        "id": "JLMP1uhQueJ1",
        "outputId": "54adf1af-972a-4a89-c77b-bb571768e148"
      },
      "source": [
        "plt.rcParams['figure.figsize'] = (12, 8)\n",
        "plt.plot(loss_history['train'], label='train')\n",
        "plt.plot(loss_history['val'], label='eval')\n",
        "plt.legend()\n",
        "plt.title('Loss');\n",
        "print('Best loss train: {:.4f}'.format(min(loss_history['train'])))\n",
        "print('Best loss eval: {:.4f}'.format(min(loss_history['val'])))\n",
        "plt.show()\n",
        "\n",
        "print()\n",
        "\n",
        "plt.plot(acc_history, label='eval')\n",
        "plt.legend()\n",
        "plt.title('Accuracy');\n",
        "print('Best acc: {:.4f}'.format(max(acc_history)))\n",
        "plt.show()"
      ],
      "execution_count": null,
      "outputs": [
        {
          "name": "stdout",
          "output_type": "stream",
          "text": [
            "Best loss train: 0.0745\n",
            "Best loss eval: 0.0729\n"
          ]
        },
        {
          "data": {
            "image/png": "[encoded data removed]",
            "text/plain": [
              "<Figure size 864x576 with 1 Axes>"
            ]
          },
          "metadata": {
            "tags": []
          },
          "output_type": "display_data"
        },
        {
          "name": "stdout",
          "output_type": "stream",
          "text": [
            "\n",
            "Best acc: 0.5972\n"
          ]
        },
        {
          "data": {
            "image/png": "[encoded data removed]",
            "text/plain": [
              "<Figure size 864x576 with 1 Axes>"
            ]
          },
          "metadata": {
            "tags": []
          },
          "output_type": "display_data"
        }
      ]
    },
    {
      "cell_type": "code",
      "metadata": {
        "colab": {
          "base_uri": "https://localhost:8080/"
        },
        "id": "mo7twhZvijj3",
        "outputId": "3ef98e8f-7802-4b77-ff01-06b2ed00ad52"
      },
      "source": [
        "model.eval()\n",
        "\n",
        "classes_count = [0] * 10\n",
        "classes_correct = [0] * 10\n",
        "\n",
        "for images, targets in test_dataloader:\n",
        "    images = images.to(device)\n",
        "    targets = targets.to(device)\n",
        "    x1, answers = targets[:, :-9], torch.max(targets[:, -9:], 1)[1]\n",
        "\n",
        "    images = Variable(images)\n",
        "    x1 = Variable(x1)\n",
        "    answers = Variable(answers)\n",
        "    \n",
        "    with torch.no_grad():\n",
        "        preds = model(images, x1)\n",
        "\n",
        "        preds = preds.cpu()\n",
        "        pred_max = torch.exp(torch.max(preds.data, 1)[0]).tolist()\n",
        "        pred_class = (torch.max(preds.data, 1)[1]+1).tolist()\n",
        "        answers = answers.tolist()\n",
        "\n",
        "        for idx in range(len(pred_class)):\n",
        "            if pred_max[idx] < 0.5:\n",
        "                pred_class[idx] = 0\n",
        "\n",
        "            classes_count[answers[idx]] += 1\n",
        "            if answers[idx] == pred_class[idx]:\n",
        "                classes_correct[answers[idx]] += 1\n",
        "\n",
        "plt.rcParams['figure.figsize'] = (14, 8)\n",
        "plt.bar(range(10), classes_count, color=\"red\");\n",
        "plt.bar(range(10), classes_correct, color=\"green\");\n",
        "plt.xticks(range(10), names);\n",
        "plt.ylabel('Correct/Total number of class elements')\n",
        "plt.xlabel('Classes')\n",
        "plt.title(\"Prediction histogram\")\n",
        "plt.show()\n",
        "\n",
        "print()\n",
        "for idx in range(10):\n",
        "    if classes_count[idx] != 0:\n",
        "        print(\"{}:   {}/{}   {:.1f}%\".format(names[idx].title(), classes_correct[idx], classes_count[idx], 100*classes_correct[idx]/classes_count[idx]))\n",
        "    else:\n",
        "        print(\"{}:   {}/{}\".format(names[idx].title(), classes_correct[idx], classes_count[idx]))\n",
        "\n",
        "print(\"\\ntotal:   {}/{}   {:.1f}%\".format(sum(classes_correct), sum(classes_count), 100*sum(classes_correct)/sum(classes_count)))"
      ],
      "execution_count": null,
      "outputs": [
        {
          "name": "stderr",
          "output_type": "stream",
          "text": [
            "/usr/local/lib/python3.7/dist-packages/ipykernel_launcher.py:63: UserWarning: Implicit dimension choice for softmax has been deprecated. Change the call to include dim=X as an argument.\n",
            "/usr/local/lib/python3.7/dist-packages/ipykernel_launcher.py:83: UserWarning: Implicit dimension choice for log_softmax has been deprecated. Change the call to include dim=X as an argument.\n"
          ]
        },
        {
          "data": {
            "image/png": "[encoded data removed]",
            "text/plain": [
              "<Figure size 1008x576 with 1 Axes>"
            ]
          },
          "metadata": {
            "tags": []
          },
          "output_type": "display_data"
        },
        {
          "name": "stdout",
          "output_type": "stream",
          "text": [
            "\n",
            "Nothing:   55/91   60.4%\n",
            "Stand:   0/6   0.0%\n",
            "Sit:   0/9   0.0%\n",
            "Lie:   0/14   0.0%\n",
            "Go:   0/12   0.0%\n",
            "Run:   0/4   0.0%\n",
            "Jump:   0/7   0.0%\n",
            "Interact:   0/5   0.0%\n",
            "Sleep:   0/7   0.0%\n",
            "Eat:   0/0\n",
            "\n",
            "total:   55/155   35.5%\n"
          ]
        }
      ]
    },
    {
      "cell_type": "markdown",
      "metadata": {
        "id": "aLPHuX0M5nPP"
      },
      "source": [
        "# XGBoost"
      ]
    },
    {
      "cell_type": "code",
      "metadata": {
        "id": "jZ9YxTuA5uE0"
      },
      "source": [
        "model = XGBClassifier()"
      ],
      "execution_count": null,
      "outputs": []
    },
    {
      "cell_type": "code",
      "metadata": {
        "id": "br2LtYtN6rur"
      },
      "source": [
        "params = {\n",
        "    'max_depth': [2, 4, 6],\n",
        "    'n_estimators': [50, 100, 150],\n",
        "    'learning_rate': [0.3, 0.1, 0.01],\n",
        "    'min_child_weight': [1, 5, 10],\n",
        "    'gamma': [0, 1, 2]\n",
        "}"
      ],
      "execution_count": null,
      "outputs": []
    },
    {
      "cell_type": "code",
      "metadata": {
        "id": "ptrsgwUz6yaL"
      },
      "source": [
        "grid_search = GridSearchCV(\n",
        "    estimator=model,\n",
        "    param_grid=params,\n",
        "    n_jobs = 10,\n",
        "    cv = 10,\n",
        "    return_train_score=True,\n",
        "    verbose=True\n",
        ")"
      ],
      "execution_count": null,
      "outputs": []
    },
    {
      "cell_type": "code",
      "metadata": {
        "colab": {
          "base_uri": "https://localhost:8080/"
        },
        "id": "q86dDDs-61x3",
        "outputId": "261bb2c0-8cf7-41c5-d8b2-348581acbb7c"
      },
      "source": [
        "grid_search.fit(X_train, y_train['label'])"
      ],
      "execution_count": null,
      "outputs": [
        {
          "output_type": "stream",
          "name": "stdout",
          "text": [
            "Fitting 10 folds for each of 243 candidates, totalling 2430 fits\n"
          ]
        },
        {
          "output_type": "stream",
          "name": "stderr",
          "text": [
            "[Parallel(n_jobs=10)]: Using backend LokyBackend with 10 concurrent workers.\n",
            "[Parallel(n_jobs=10)]: Done  30 tasks      | elapsed:   46.1s\n",
            "[Parallel(n_jobs=10)]: Done 180 tasks      | elapsed:  4.7min\n",
            "[Parallel(n_jobs=10)]: Done 430 tasks      | elapsed: 12.2min\n",
            "[Parallel(n_jobs=10)]: Done 780 tasks      | elapsed: 26.6min\n",
            "[Parallel(n_jobs=10)]: Done 1230 tasks      | elapsed: 41.9min\n",
            "[Parallel(n_jobs=10)]: Done 1780 tasks      | elapsed: 62.7min\n",
            "[Parallel(n_jobs=10)]: Done 2430 out of 2430 | elapsed: 88.9min finished\n"
          ]
        },
        {
          "output_type": "execute_result",
          "data": {
            "text/plain": [
              "GridSearchCV(cv=10, error_score=nan,\n",
              "             estimator=XGBClassifier(base_score=0.5, booster='gbtree',\n",
              "                                     colsample_bylevel=1, colsample_bynode=1,\n",
              "                                     colsample_bytree=1, gamma=0,\n",
              "                                     learning_rate=0.1, max_delta_step=0,\n",
              "                                     max_depth=3, min_child_weight=1,\n",
              "                                     missing=None, n_estimators=100, n_jobs=1,\n",
              "                                     nthread=None, objective='binary:logistic',\n",
              "                                     random_state=0, reg_alpha=0, reg_lambda=1,\n",
              "                                     scale_pos_weight=1, seed=None, silent=None,\n",
              "                                     subsample=1, verbosity=1),\n",
              "             iid='deprecated', n_jobs=10,\n",
              "             param_grid={'gamma': [0, 1, 2], 'learning_rate': [0.3, 0.1, 0.01],\n",
              "                         'max_depth': [2, 4, 6], 'min_child_weight': [1, 5, 10],\n",
              "                         'n_estimators': [50, 100, 150]},\n",
              "             pre_dispatch='2*n_jobs', refit=True, return_train_score=True,\n",
              "             scoring=None, verbose=True)"
            ]
          },
          "metadata": {},
          "execution_count": 37
        }
      ]
    },
    {
      "cell_type": "code",
      "metadata": {
        "colab": {
          "base_uri": "https://localhost:8080/"
        },
        "id": "1l_g1UMq_WEd",
        "outputId": "2ee1da58-60a0-4c5c-bba7-e630b7755bf1"
      },
      "source": [
        "grid_search.best_estimator_"
      ],
      "execution_count": null,
      "outputs": [
        {
          "output_type": "execute_result",
          "data": {
            "text/plain": [
              "XGBClassifier(base_score=0.5, booster='gbtree', colsample_bylevel=1,\n",
              "              colsample_bynode=1, colsample_bytree=1, gamma=0,\n",
              "              learning_rate=0.3, max_delta_step=0, max_depth=6,\n",
              "              min_child_weight=1, missing=None, n_estimators=50, n_jobs=1,\n",
              "              nthread=None, objective='multi:softprob', random_state=0,\n",
              "              reg_alpha=0, reg_lambda=1, scale_pos_weight=1, seed=None,\n",
              "              silent=None, subsample=1, verbosity=1)"
            ]
          },
          "metadata": {},
          "execution_count": 38
        }
      ]
    },
    {
      "cell_type": "code",
      "metadata": {
        "id": "QEM17gVnWIMf"
      },
      "source": [
        "model = XGBClassifier(base_score=0.5, booster='gbtree', colsample_bylevel=1,\n",
        "              colsample_bynode=1, colsample_bytree=1, gamma=0,\n",
        "              learning_rate=0.3, max_delta_step=0, max_depth=6,\n",
        "              min_child_weight=1, missing=None, n_estimators=50, n_jobs=1,\n",
        "              nthread=None, objective='multi:softprob', random_state=0,\n",
        "              reg_alpha=0, reg_lambda=1, scale_pos_weight=1, seed=None,\n",
        "              silent=None, subsample=1, verbosity=1)"
      ],
      "execution_count": null,
      "outputs": []
    },
    {
      "cell_type": "code",
      "metadata": {
        "colab": {
          "base_uri": "https://localhost:8080/"
        },
        "id": "kTZYZzW4lbIX",
        "outputId": "b5151821-b76f-4afb-f1f6-b2e8ee1dd8aa"
      },
      "source": [
        "y_train['label']"
      ],
      "execution_count": null,
      "outputs": [
        {
          "output_type": "execute_result",
          "data": {
            "text/plain": [
              "id\n",
              "771    1\n",
              "199    1\n",
              "803    0\n",
              "138    1\n",
              "475    0\n",
              "      ..\n",
              "356    0\n",
              "960    0\n",
              "812    1\n",
              "132    1\n",
              "885    0\n",
              "Name: label, Length: 580, dtype: int64"
            ]
          },
          "metadata": {},
          "execution_count": 93
        }
      ]
    },
    {
      "cell_type": "code",
      "metadata": {
        "colab": {
          "base_uri": "https://localhost:8080/"
        },
        "id": "vzKUAeJn6V9i",
        "outputId": "e5ff2096-5260-43e6-b48f-6ad494d57700"
      },
      "source": [
        "model.fit(X_train, y_train['label'])"
      ],
      "execution_count": null,
      "outputs": [
        {
          "output_type": "error",
          "ename": "XGBoostError",
          "evalue": "ignored",
          "traceback": [
            "\u001b[0;31m---------------------------------------------------------------------------\u001b[0m",
            "\u001b[0;31mXGBoostError\u001b[0m                              Traceback (most recent call last)",
            "\u001b[0;32m<ipython-input-92-294a206dc0dd>\u001b[0m in \u001b[0;36m<module>\u001b[0;34m()\u001b[0m\n\u001b[0;32m----> 1\u001b[0;31m \u001b[0mmodel\u001b[0m\u001b[0;34m.\u001b[0m\u001b[0mfit\u001b[0m\u001b[0;34m(\u001b[0m\u001b[0mX_train\u001b[0m\u001b[0;34m,\u001b[0m \u001b[0my_train\u001b[0m\u001b[0;34m[\u001b[0m\u001b[0;34m'label'\u001b[0m\u001b[0;34m]\u001b[0m\u001b[0;34m)\u001b[0m\u001b[0;34m\u001b[0m\u001b[0;34m\u001b[0m\u001b[0m\n\u001b[0m",
            "\u001b[0;32m/usr/local/lib/python3.7/dist-packages/xgboost/sklearn.py\u001b[0m in \u001b[0;36mfit\u001b[0;34m(self, X, y, sample_weight, eval_set, eval_metric, early_stopping_rounds, verbose, xgb_model, sample_weight_eval_set, callbacks)\u001b[0m\n\u001b[1;32m    730\u001b[0m                               \u001b[0mevals_result\u001b[0m\u001b[0;34m=\u001b[0m\u001b[0mevals_result\u001b[0m\u001b[0;34m,\u001b[0m \u001b[0mobj\u001b[0m\u001b[0;34m=\u001b[0m\u001b[0mobj\u001b[0m\u001b[0;34m,\u001b[0m \u001b[0mfeval\u001b[0m\u001b[0;34m=\u001b[0m\u001b[0mfeval\u001b[0m\u001b[0;34m,\u001b[0m\u001b[0;34m\u001b[0m\u001b[0;34m\u001b[0m\u001b[0m\n\u001b[1;32m    731\u001b[0m                               \u001b[0mverbose_eval\u001b[0m\u001b[0;34m=\u001b[0m\u001b[0mverbose\u001b[0m\u001b[0;34m,\u001b[0m \u001b[0mxgb_model\u001b[0m\u001b[0;34m=\u001b[0m\u001b[0mxgb_model\u001b[0m\u001b[0;34m,\u001b[0m\u001b[0;34m\u001b[0m\u001b[0;34m\u001b[0m\u001b[0m\n\u001b[0;32m--> 732\u001b[0;31m                               callbacks=callbacks)\n\u001b[0m\u001b[1;32m    733\u001b[0m \u001b[0;34m\u001b[0m\u001b[0m\n\u001b[1;32m    734\u001b[0m         \u001b[0mself\u001b[0m\u001b[0;34m.\u001b[0m\u001b[0mobjective\u001b[0m \u001b[0;34m=\u001b[0m \u001b[0mxgb_options\u001b[0m\u001b[0;34m[\u001b[0m\u001b[0;34m\"objective\"\u001b[0m\u001b[0;34m]\u001b[0m\u001b[0;34m\u001b[0m\u001b[0;34m\u001b[0m\u001b[0m\n",
            "\u001b[0;32m/usr/local/lib/python3.7/dist-packages/xgboost/training.py\u001b[0m in \u001b[0;36mtrain\u001b[0;34m(params, dtrain, num_boost_round, evals, obj, feval, maximize, early_stopping_rounds, evals_result, verbose_eval, xgb_model, callbacks, learning_rates)\u001b[0m\n\u001b[1;32m    214\u001b[0m                            \u001b[0mevals\u001b[0m\u001b[0;34m=\u001b[0m\u001b[0mevals\u001b[0m\u001b[0;34m,\u001b[0m\u001b[0;34m\u001b[0m\u001b[0;34m\u001b[0m\u001b[0m\n\u001b[1;32m    215\u001b[0m                            \u001b[0mobj\u001b[0m\u001b[0;34m=\u001b[0m\u001b[0mobj\u001b[0m\u001b[0;34m,\u001b[0m \u001b[0mfeval\u001b[0m\u001b[0;34m=\u001b[0m\u001b[0mfeval\u001b[0m\u001b[0;34m,\u001b[0m\u001b[0;34m\u001b[0m\u001b[0;34m\u001b[0m\u001b[0m\n\u001b[0;32m--> 216\u001b[0;31m                            xgb_model=xgb_model, callbacks=callbacks)\n\u001b[0m\u001b[1;32m    217\u001b[0m \u001b[0;34m\u001b[0m\u001b[0m\n\u001b[1;32m    218\u001b[0m \u001b[0;34m\u001b[0m\u001b[0m\n",
            "\u001b[0;32m/usr/local/lib/python3.7/dist-packages/xgboost/training.py\u001b[0m in \u001b[0;36m_train_internal\u001b[0;34m(params, dtrain, num_boost_round, evals, obj, feval, xgb_model, callbacks)\u001b[0m\n\u001b[1;32m     72\u001b[0m         \u001b[0;31m# Skip the first update if it is a recovery step.\u001b[0m\u001b[0;34m\u001b[0m\u001b[0;34m\u001b[0m\u001b[0;34m\u001b[0m\u001b[0m\n\u001b[1;32m     73\u001b[0m         \u001b[0;32mif\u001b[0m \u001b[0mversion\u001b[0m \u001b[0;34m%\u001b[0m \u001b[0;36m2\u001b[0m \u001b[0;34m==\u001b[0m \u001b[0;36m0\u001b[0m\u001b[0;34m:\u001b[0m\u001b[0;34m\u001b[0m\u001b[0;34m\u001b[0m\u001b[0m\n\u001b[0;32m---> 74\u001b[0;31m             \u001b[0mbst\u001b[0m\u001b[0;34m.\u001b[0m\u001b[0mupdate\u001b[0m\u001b[0;34m(\u001b[0m\u001b[0mdtrain\u001b[0m\u001b[0;34m,\u001b[0m \u001b[0mi\u001b[0m\u001b[0;34m,\u001b[0m \u001b[0mobj\u001b[0m\u001b[0;34m)\u001b[0m\u001b[0;34m\u001b[0m\u001b[0;34m\u001b[0m\u001b[0m\n\u001b[0m\u001b[1;32m     75\u001b[0m             \u001b[0mbst\u001b[0m\u001b[0;34m.\u001b[0m\u001b[0msave_rabit_checkpoint\u001b[0m\u001b[0;34m(\u001b[0m\u001b[0;34m)\u001b[0m\u001b[0;34m\u001b[0m\u001b[0;34m\u001b[0m\u001b[0m\n\u001b[1;32m     76\u001b[0m             \u001b[0mversion\u001b[0m \u001b[0;34m+=\u001b[0m \u001b[0;36m1\u001b[0m\u001b[0;34m\u001b[0m\u001b[0;34m\u001b[0m\u001b[0m\n",
            "\u001b[0;32m/usr/local/lib/python3.7/dist-packages/xgboost/core.py\u001b[0m in \u001b[0;36mupdate\u001b[0;34m(self, dtrain, iteration, fobj)\u001b[0m\n\u001b[1;32m   1107\u001b[0m         \u001b[0;32mif\u001b[0m \u001b[0mfobj\u001b[0m \u001b[0;32mis\u001b[0m \u001b[0;32mNone\u001b[0m\u001b[0;34m:\u001b[0m\u001b[0;34m\u001b[0m\u001b[0;34m\u001b[0m\u001b[0m\n\u001b[1;32m   1108\u001b[0m             _check_call(_LIB.XGBoosterUpdateOneIter(self.handle, ctypes.c_int(iteration),\n\u001b[0;32m-> 1109\u001b[0;31m                                                     dtrain.handle))\n\u001b[0m\u001b[1;32m   1110\u001b[0m         \u001b[0;32melse\u001b[0m\u001b[0;34m:\u001b[0m\u001b[0;34m\u001b[0m\u001b[0;34m\u001b[0m\u001b[0m\n\u001b[1;32m   1111\u001b[0m             \u001b[0mpred\u001b[0m \u001b[0;34m=\u001b[0m \u001b[0mself\u001b[0m\u001b[0;34m.\u001b[0m\u001b[0mpredict\u001b[0m\u001b[0;34m(\u001b[0m\u001b[0mdtrain\u001b[0m\u001b[0;34m)\u001b[0m\u001b[0;34m\u001b[0m\u001b[0;34m\u001b[0m\u001b[0m\n",
            "\u001b[0;32m/usr/local/lib/python3.7/dist-packages/xgboost/core.py\u001b[0m in \u001b[0;36m_check_call\u001b[0;34m(ret)\u001b[0m\n\u001b[1;32m    174\u001b[0m     \"\"\"\n\u001b[1;32m    175\u001b[0m     \u001b[0;32mif\u001b[0m \u001b[0mret\u001b[0m \u001b[0;34m!=\u001b[0m \u001b[0;36m0\u001b[0m\u001b[0;34m:\u001b[0m\u001b[0;34m\u001b[0m\u001b[0;34m\u001b[0m\u001b[0m\n\u001b[0;32m--> 176\u001b[0;31m         \u001b[0;32mraise\u001b[0m \u001b[0mXGBoostError\u001b[0m\u001b[0;34m(\u001b[0m\u001b[0mpy_str\u001b[0m\u001b[0;34m(\u001b[0m\u001b[0m_LIB\u001b[0m\u001b[0;34m.\u001b[0m\u001b[0mXGBGetLastError\u001b[0m\u001b[0;34m(\u001b[0m\u001b[0;34m)\u001b[0m\u001b[0;34m)\u001b[0m\u001b[0;34m)\u001b[0m\u001b[0;34m\u001b[0m\u001b[0;34m\u001b[0m\u001b[0m\n\u001b[0m\u001b[1;32m    177\u001b[0m \u001b[0;34m\u001b[0m\u001b[0m\n\u001b[1;32m    178\u001b[0m \u001b[0;34m\u001b[0m\u001b[0m\n",
            "\u001b[0;31mXGBoostError\u001b[0m: value 0 for Parameter num_class should be greater equal to 1"
          ]
        }
      ]
    },
    {
      "cell_type": "code",
      "metadata": {
        "id": "apl7ojF76ZY3"
      },
      "source": [
        "y_pred = model.predict(X_test)"
      ],
      "execution_count": null,
      "outputs": []
    },
    {
      "cell_type": "code",
      "metadata": {
        "colab": {
          "base_uri": "https://localhost:8080/"
        },
        "id": "-9efMarU6hS-",
        "outputId": "787570e0-79a6-4817-f2bd-1af44d21ea1b"
      },
      "source": [
        "precision_score(y_pred, y_test['label'], average=None).mean()"
      ],
      "execution_count": null,
      "outputs": [
        {
          "output_type": "execute_result",
          "data": {
            "text/plain": [
              "0.5000131901107145"
            ]
          },
          "metadata": {},
          "execution_count": 70
        }
      ]
    },
    {
      "cell_type": "code",
      "metadata": {
        "colab": {
          "base_uri": "https://localhost:8080/"
        },
        "id": "YPoDyTbSjZs6",
        "outputId": "f7481251-de4c-4e1f-b952-60081aa8b108"
      },
      "source": [
        "precision_score(y_pred, y_test['label'], average=None)"
      ],
      "execution_count": null,
      "outputs": [
        {
          "output_type": "stream",
          "name": "stderr",
          "text": [
            "/usr/local/lib/python3.7/dist-packages/sklearn/metrics/_classification.py:1272: UndefinedMetricWarning: Precision is ill-defined and being set to 0.0 in labels with no predicted samples. Use `zero_division` parameter to control this behavior.\n",
            "  _warn_prf(average, modifier, msg_start, len(result))\n"
          ]
        },
        {
          "output_type": "execute_result",
          "data": {
            "text/plain": [
              "array([0.93023256, 0.15942029, 0.        , 0.        , 0.        ])"
            ]
          },
          "metadata": {},
          "execution_count": 80
        }
      ]
    },
    {
      "cell_type": "code",
      "metadata": {
        "id": "wmGpSpEuk_AS"
      },
      "source": [
        ""
      ],
      "execution_count": null,
      "outputs": []
    }
  ]
}